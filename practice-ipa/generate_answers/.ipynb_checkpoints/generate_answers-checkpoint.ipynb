{
 "cells": [
  {
   "cell_type": "code",
   "execution_count": 1,
   "metadata": {},
   "outputs": [],
   "source": [
    "fh = open('cmudict-0.7b-ipa.txt','r', encoding='utf-8')\n",
    "\n",
    "specialchars = '!@#$%^&*()-+\"\\',./:1234567890'\n",
    "\n",
    "pronunciations = [[line.split('\\t')[0], line.split('\\t')[1].replace('r','ɹ').replace('ɝ', 'əɹ').rstrip('\\n')] for line in fh if not line.startswith(';;;') and (not(any(c in specialchars for c in line.split('\\t')[0])) and ',' not in line.split('\\t')[1] and len(line.split('\\t')[1])<7)]"
   ]
  },
  {
   "cell_type": "code",
   "execution_count": 2,
   "metadata": {
    "scrolled": true
   },
   "outputs": [
    {
     "name": "stdout",
     "output_type": "stream",
     "text": [
      "['AAH', 'ˈɑː']\n",
      "['AAKER', 'ˈɑːkəɹ']\n",
      "['AARGH', 'ˈɑːɹg']\n",
      "['AARON', 'ˈɛɹən']\n",
      "['AASE', 'ˈɑːs']\n",
      "['AB', 'ˈæb']\n",
      "['ABACK', 'əˈbæk']\n",
      "['ABAIR', 'əˈbɛɹ']\n",
      "['ABASH', 'əˈbæʃ']\n",
      "['ABBA', 'ˈæbə']\n"
     ]
    }
   ],
   "source": [
    "for i in range(10):\n",
    "    print(pronunciations[i])"
   ]
  },
  {
   "cell_type": "code",
   "execution_count": 3,
   "metadata": {},
   "outputs": [
    {
     "data": {
      "text/plain": [
       "11490"
      ]
     },
     "execution_count": 3,
     "metadata": {},
     "output_type": "execute_result"
    }
   ],
   "source": [
    "len(pronunciations)"
   ]
  },
  {
   "cell_type": "code",
   "execution_count": 4,
   "metadata": {},
   "outputs": [
    {
     "name": "stdout",
     "output_type": "stream",
     "text": [
      "{'e', 'ɑ', 'ʃ', 'j', 'ɹ', 'ɔ', 'm', 'v', 'ʒ', 'w', 'ˈ', 'h', 'æ', 'ʊ', 'a', 'o', 't', 'ð', 'g', 'n', 'ː', 'b', 'd', 'ʌ', 'θ', 'ɛ', 'i', 'ŋ', 'l', ' ', 'f', 'ɪ', 'ə', 'p', 's', 'u', 'k', 'z'}\n"
     ]
    }
   ],
   "source": [
    "allipa = \" \".join([word[1] for word in pronunciations])\n",
    "print(set(allipa))"
   ]
  },
  {
   "cell_type": "code",
   "execution_count": 5,
   "metadata": {},
   "outputs": [],
   "source": [
    "error_dict = {\n",
    "    'p':['b'], \n",
    "    'b':['p'], \n",
    "    'f':['v'], \n",
    "    'v':['f'], \n",
    "    'ð':['θ', 'th'], \n",
    "    'θ':['ð', 'th'], \n",
    "    't':['d'], \n",
    "    'd':['t'], \n",
    "    's':['z', 'ss'], \n",
    "    'z': ['s', 'zz'], \n",
    "    'ʃ': ['ʒ', 'sh'], \n",
    "    'ʒ': ['ʃ', 'zh'],\n",
    "    'k':['g'], \n",
    "    'g':['k'], \n",
    "    'h':['x'], \n",
    "    'n': ['ŋ','m'], \n",
    "    'm':['n', 'ŋ'], \n",
    "    'ŋ':['n','m'], \n",
    "    'j':['y'], \n",
    "    'w':['u'],\n",
    "    'ɹ':['w', 'r'], \n",
    "    'l':['w'], \n",
    "    'ˌ':['NONE'], \n",
    "    ' ': ['NONE'], \n",
    "    'ː': ['NONE'], \n",
    "    'ˈ':['NONE'],\n",
    "    'ɛ':['e', 'æ', 'ɪ'], \n",
    "    'æ': ['e', 'ɛ', 'a'], \n",
    "    'u':['ʊ', 'ɔ', 'oo'], \n",
    "    'ʌ':['uh','ɔ','o'], \n",
    "    'ʊ':['u','oo'], \n",
    "    'ə':['uh','ʌ'],\n",
    "    'i':['ɪ', 'ee', 'ie'],\n",
    "    'ɑ':['ah', 'æ'],\n",
    "    'a':['ah', 'æ'],\n",
    "    'e':['ɛ', 'ɪ', 'æ'],\n",
    "    'o':['oh', 'ɔ'],\n",
    "    'ɔ':['o'],\n",
    "    'ɪ':['i', 'ie', 'ee']\n",
    "}\n",
    "\n",
    "\n",
    "\n"
   ]
  },
  {
   "cell_type": "code",
   "execution_count": 6,
   "metadata": {},
   "outputs": [],
   "source": [
    "import random"
   ]
  },
  {
   "cell_type": "code",
   "execution_count": 7,
   "metadata": {},
   "outputs": [],
   "source": [
    "def generate_answers(pron):\n",
    "    answer_choices = [pron[:i]+random.choice(error_dict[pron[i]])+pron[i+1:] for i in range(len(pron)) if error_dict[pron[i]] != ['NONE']]\n",
    "    answer_choices.append(pron)\n",
    "    answer_choices = list(set(answer_choices))\n",
    "    random.shuffle(answer_choices)\n",
    "    return answer_choices"
   ]
  },
  {
   "cell_type": "code",
   "execution_count": 8,
   "metadata": {},
   "outputs": [
    {
     "data": {
      "text/plain": [
       "['ʌˈbʌz', 'əˈbʌz', 'əˈbɔz', 'əˈpʌz', 'əˈbʌzz']"
      ]
     },
     "execution_count": 8,
     "metadata": {},
     "output_type": "execute_result"
    }
   ],
   "source": [
    "generate_answers('əˈbʌz')"
   ]
  },
  {
   "cell_type": "code",
   "execution_count": 9,
   "metadata": {},
   "outputs": [],
   "source": [
    "all_answers = [[word[0], word[1], generate_answers(word[1])] for word in pronunciations]"
   ]
  },
  {
   "cell_type": "code",
   "execution_count": 10,
   "metadata": {},
   "outputs": [
    {
     "name": "stdout",
     "output_type": "stream",
     "text": [
      "['AAH', 'ˈɑː', ['ˈɑː', 'ˈahː']]\n",
      "['AAKER', 'ˈɑːkəɹ', ['ˈahːkəɹ', 'ˈɑːkəw', 'ˈɑːkəɹ', 'ˈɑːkuhɹ', 'ˈɑːgəɹ']]\n",
      "['AARGH', 'ˈɑːɹg', ['ˈahːɹg', 'ˈɑːɹg', 'ˈɑːrg', 'ˈɑːɹk']]\n",
      "['AARON', 'ˈɛɹən', ['ˈɪɹən', 'ˈɛɹən', 'ˈɛɹəŋ', 'ˈɛwən', 'ˈɛɹʌn']]\n",
      "['AASE', 'ˈɑːs', ['ˈæːs', 'ˈɑːs', 'ˈɑːz']]\n",
      "['AB', 'ˈæb', ['ˈeb', 'ˈæp', 'ˈæb']]\n",
      "['ABACK', 'əˈbæk', ['əˈbɛk', 'əˈbæk', 'əˈbæg', 'uhˈbæk', 'əˈpæk']]\n",
      "['ABAIR', 'əˈbɛɹ', ['əˈbɛw', 'əˈbeɹ', 'əˈpɛɹ', 'əˈbɛɹ', 'uhˈbɛɹ']]\n",
      "['ABASH', 'əˈbæʃ', ['əˈbæsh', 'əˈbæʃ', 'əˈbaʃ', 'əˈpæʃ', 'uhˈbæʃ']]\n",
      "['ABBA', 'ˈæbə', ['ˈæbuh', 'ˈæbə', 'ˈæpə', 'ˈɛbə']]\n"
     ]
    }
   ],
   "source": [
    "for i in range(10):\n",
    "    print(all_answers[i])"
   ]
  },
  {
   "cell_type": "code",
   "execution_count": 11,
   "metadata": {},
   "outputs": [],
   "source": [
    "def is_last(alist,choice):\n",
    "    if choice == alist[-1]:\n",
    "        return True\n",
    "    else:\n",
    "        return False"
   ]
  },
  {
   "cell_type": "code",
   "execution_count": 12,
   "metadata": {},
   "outputs": [],
   "source": [
    "with open('answer_choices.json', 'w+', encoding='utf-8') as js_file:\n",
    "    js_file.write('[\\n')\n",
    "    for entry in all_answers:\n",
    "        js_file.write('{ \"question\": \"How is the word \\''+entry[0]+'\\' phonemically transcribed in IPA?\",')\n",
    "        js_file.write('\"answers\":[')\n",
    "        for option in entry[2]:\n",
    "            if option == entry[1]:\n",
    "                js_file.write('{ \"text\":\"' +option+ '\",\"correct\":true}')\n",
    "            else:\n",
    "                js_file.write('{ \"text\":\"' +option+ '\",\"correct\":false}')\n",
    "            if is_last(entry[2], option):\n",
    "                js_file.write('')\n",
    "            else:\n",
    "                js_file.write(',')\n",
    "        if is_last(all_answers, entry):\n",
    "            js_file.write(']}')\n",
    "        else:    \n",
    "            js_file.write(']},\\n')\n",
    "    js_file.write('\\n]')"
   ]
  }
 ],
 "metadata": {
  "kernelspec": {
   "display_name": "Python 3 (ipykernel)",
   "language": "python",
   "name": "python3"
  },
  "language_info": {
   "codemirror_mode": {
    "name": "ipython",
    "version": 3
   },
   "file_extension": ".py",
   "mimetype": "text/x-python",
   "name": "python",
   "nbconvert_exporter": "python",
   "pygments_lexer": "ipython3",
   "version": "3.10.5"
  }
 },
 "nbformat": 4,
 "nbformat_minor": 4
}
